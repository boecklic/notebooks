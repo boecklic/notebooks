{
 "cells": [
  {
   "cell_type": "markdown",
   "metadata": {},
   "source": [
    "# Development path for geoadmin\n",
    "\n",
    "## Application Frameworks\n",
    "\n",
    "- Angular\n",
    "- React\n",
    "- Vue\n",
    "\n",
    "## Map Libraries\n",
    "\n",
    "\n",
    "| Library | WebGl | Webworkers | 3D  | Language |\n",
    "|---|---|---|---|\n",
    "| Openlayers | <font color=red><i class=\"fa fa-times\"></i></font> | <font color=orange>+/-</font> | ol-cesium bridge library | Javascript |\n",
    "| Mapbox     | <font color=green><i class=\"fa fa-check\"></i></font> | | <font color=green><i class=\"fa fa-check\"></i></font> | Javascript |\n",
    "| Leaflet    |  | | |\n",
    "\n",
    "three.js\n",
    "cesium.js\n",
    "\n",
    "### Mapbox Examples\n",
    "https://docs.mapbox.com/mapbox-gl-js/examples/\n"
   ]
  },
  {
   "cell_type": "code",
   "execution_count": null,
   "metadata": {},
   "outputs": [],
   "source": []
  },
  {
   "cell_type": "markdown",
   "metadata": {},
   "source": []
  }
 ],
 "metadata": {
  "kernelspec": {
   "display_name": "Python 3",
   "language": "python",
   "name": "python3"
  },
  "language_info": {
   "codemirror_mode": {
    "name": "ipython",
    "version": 3
   },
   "file_extension": ".py",
   "mimetype": "text/x-python",
   "name": "python",
   "nbconvert_exporter": "python",
   "pygments_lexer": "ipython3",
   "version": "3.6.7"
  }
 },
 "nbformat": 4,
 "nbformat_minor": 2
}
