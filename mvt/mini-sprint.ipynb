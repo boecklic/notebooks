{
 "cells": [
  {
   "cell_type": "markdown",
   "metadata": {},
   "source": [
    "# OL/swisstopo Mini-Sprint\n",
    "\n",
    "## Composite Renderer (mapbox-gl inside OL)\n",
    "Swisstopo launched the public test phase of the map-viewer with Vectortiles beginning of May. The feedback is promising, but apart from details in the data (e.g. missing altitude curves), the moderate performance of the current test.map.geo.admin.ch viewer is the main issue we have to work on. As mentioned [here](https://ltboc.infra.bgdi.ch/notebooks/mvt/roadmap_openlayers.html), the benchmark for performance (and of course style) is mapbox-gl, based on the current dataset. Based on proof of concepts ([1], [2]) that have been done, we'd like to further investigate the possibility of using mapbox-gl as layer renderer in our current application. \n",
    "\n",
    "## Model under test\n",
    "A branch of the current vector tiles testviewer using mapbox-gl has been deployed to https://mf-geoadmin4.int.bgdi.ch/mvt_clean_mapbox_layer/1905061516/index.html . \n",
    "\n",
    "A number of issues cropped up hereby that we'd like to work on:\n",
    "\n",
    "- [ ] zoom level is not correct\n",
    "- [ ] zoom in/out buttons appear strange\n",
    "- [ ] panning doesn't work properly\n",
    "- [ ] click on feature raises `TypeError: t is null` (e.g https://mf-chsdi3.int.bgdi.ch/shorten/81b8d4b575)\n",
    "- [ ] style editing\n",
    "\n",
    "\n",
    "\n",
    "[[1]](https://codepen.io/pakb/pen/pBjGOP) https://codepen.io/pakb/pen/pBjGOP\n",
    "\n",
    "[[2]](https://170-4723248-gh.circle-artifacts.com/0/examples/mapbox-layer.html) https://170-4723248-gh.circle-artifacts.com/0/examples/mapbox-layer.html"
   ]
  },
  {
   "cell_type": "code",
   "execution_count": null,
   "metadata": {},
   "outputs": [],
   "source": []
  }
 ],
 "metadata": {
  "kernelspec": {
   "display_name": "Python 3",
   "language": "python",
   "name": "python3"
  },
  "language_info": {
   "codemirror_mode": {
    "name": "ipython",
    "version": 3
   },
   "file_extension": ".py",
   "mimetype": "text/x-python",
   "name": "python",
   "nbconvert_exporter": "python",
   "pygments_lexer": "ipython3",
   "version": "3.6.7"
  }
 },
 "nbformat": 4,
 "nbformat_minor": 2
}
