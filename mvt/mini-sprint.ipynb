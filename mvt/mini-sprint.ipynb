{
 "cells": [
  {
   "cell_type": "markdown",
   "metadata": {},
   "source": [
    "# OL/swisstopo Mini-Sprint\n",
    "\n",
    "## Composite Renderer (mapbox-gl inside OL)\n",
    "Swisstopo launched the public test phase of the map-viewer with Vectortiles beginning of May. The feedback is promising, but apart from details in the data (e.g. missing altitude curves), the moderate performance of the current test.map.geo.admin.ch viewer is one of the main issues we have to work on. As mentioned [here](https://ltboc.infra.bgdi.ch/notebooks/mvt/roadmap_openlayers.html), the benchmark for performance (and of course style) is mapbox-gl, based on the current dataset. Based on proof of concepts ([1], [2]) that have been done last year, we'd like to further investigate the possibility of using mapbox-gl as layer renderer in our current application. \n",
    "\n",
    "### Model under test\n",
    "A branch of the current vector tiles testviewer using mapbox-gl has been deployed to https://mf-geoadmin4.int.bgdi.ch/mvt_clean_mapbox_layer/index.html . It already works fairly good.\n",
    "\n",
    "Nevertheless, some issues cropped up hereby that have to be solved and we'd like to work on at least two of them next week:\n",
    "\n",
    "- [ ] zoom out and panning is 'flickering' (zoom steps too big? canvas extent? add intermediate rendering steps?)\n",
    "- [ ] syncronization of mouse location to identify features drawn by mapbox\n",
    "\n",
    "Apart from that the approach seems very promising, both in terms of styling and performance and has already gained much attention internally. We propose and would like to see this POC find its way (in a clean way) into an officially maintained `MapboxVectorTileLayer` (or the like) in openlayers. \n",
    "\n",
    "\n",
    "## Memory Issue in safari\n",
    "A second type of issue that keeps popping up seems to be related to the same problem in safari (mostly on iOS) mentioned here [https://github.com/openlayers/openlayers/issues/9291](https://github.com/openlayers/openlayers/issues/9291). The issues on our side are listed here [https://github.com/geoadmin/mf-geoadmin3/issues/4924](https://github.com/geoadmin/mf-geoadmin3/issues/4924). They become now apparent for the vectortiles viewer. \n"
   ]
  },
  {
   "cell_type": "markdown",
   "metadata": {},
   "source": [
    "---\n",
    "[[1]](https://codepen.io/pakb/pen/pBjGOP) https://codepen.io/pakb/pen/pBjGOP\n",
    "\n",
    "[[2]](https://170-4723248-gh.circle-artifacts.com/0/examples/mapbox-layer.html) https://170-4723248-gh.circle-artifacts.com/0/examples/mapbox-layer.html"
   ]
  }
 ],
 "metadata": {
  "kernelspec": {
   "display_name": "Python 3",
   "language": "python",
   "name": "python3"
  },
  "language_info": {
   "codemirror_mode": {
    "name": "ipython",
    "version": 3
   },
   "file_extension": ".py",
   "mimetype": "text/x-python",
   "name": "python",
   "nbconvert_exporter": "python",
   "pygments_lexer": "ipython3",
   "version": "3.6.7"
  }
 },
 "nbformat": 4,
 "nbformat_minor": 2
}
