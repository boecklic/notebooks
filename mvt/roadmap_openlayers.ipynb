{
 "cells": [
  {
   "cell_type": "markdown",
   "metadata": {
    "slideshow": {
     "slide_type": "slide"
    }
   },
   "source": [
    "# Issues / Improvements with OL\n",
    "\n",
    "## Preface\n",
    "This document aims at collecting ideas for possible improvements of OL and differences between the current benchmark concerning vectortiles rendering which is the [vanilla mapbox](http://vectortiles.geo.admin.ch/gl-styles/ch.swisstopo.leichte-basiskarte.vt/v006/) viewer. The \"model under test\" is [vanilla OL](https://mf-geoadmin4.int.bgdi.ch/ol-minimalist/index.html) using `ol-mapbox-style` library to interpret mapbox style files and generate `VectorTilesLayer`s (see figure below). The style files are slightly modified to use only a single source host (`vectortiles100.geo.admin.ch`) instead of a range of five hosts (performance improvement on browsers supporting `http/2`). \n",
    "\n",
    "Conceptually there exist(ed) two different approaches to integrate a vector tiles layer using mapbox vector tiles in an OL map. In the first one - let's call it *ol native* - OL delegates only the task of layer creation and styling to a third party library called [ol-mapbox-style]() but takes care of layer rendering itself (using `CanvasVectorTileLayerRenderer`). In the second one - *ol + mapbox* - the mapbox-gl renderer is wrapped in an OL layer and hence treated like a \"normal\" OL layer, since (after a refactoring [PR #8922](https://github.com/openlayers/openlayers/pull/8922)) each layer is responsible for its rendering himself. \n",
    "![native ol vs. ol + mapbox-gl](ol-native-vs-ol+mapbox.dio.svg)\n",
    "*native ol vs. ol + mapbox-gl*\n",
    "\n",
    "A POC of this approach is available [here](https://codepen.io/pakb/pen/pBjGOP). It seems however that essentials parts have been removed from OL (maybe related to removal of WebGL parts) so this approach doesn't work with the current OL-`master` and is therefore not further evaluated in this document. Nevertheless, it seems a compelling idea to use mapbox-gl for rendering mapbox vectortiles as an OL layer. The possible limitations of this approach have yet to be evaluated though.\n",
    "\n",
    "## TOC\n",
    "\n",
    "- [Performance](#Performance)\n",
    "    - [Timing of re-rendering and loading new tiles](#Timing-of-loading-new-tiles)    \n",
    "    - [Rendering](#Rendering)\n",
    "    - [Animation](#Animation)\n",
    "    - [Caching](#Caching)\n",
    "- [Styling](#Styling)\n",
    "- [Documentation](#Documentation)\n",
    "- [Roadmap](#Roadmap)\n",
    "\n",
    "---"
   ]
  },
  {
   "cell_type": "markdown",
   "metadata": {
    "slideshow": {
     "slide_type": "slide"
    }
   },
   "source": [
    "## Performance\n",
    "\n",
    "We are comparing the performance of vanilla OL with vanilla MB rendering the vectortiles with the style produced by swisstopo Karto department. Performance improvements that could result from modifying / optimizing the style are explicitly noten taken into account here, MB renderer is able to cope with the style and amount of data in a performant way, so this is the \"gold standard\". \n",
    "\n",
    "### Timing of loading new tiles\n",
    "Work has already been done lately to improve the user experience during zomm/load cycles, namely with [PR #9101](https://github.com/openlayers/openlayers/pull/9101) which allows to load tiles also during animation/interaction phases, [PR #9128](https://github.com/openlayers/openlayers/pull/9128) which reduces render cycles of VT layers not to block animation/interaction and [PR #9152](https://github.com/openlayers/openlayers/pull/9152) which made further improvements / fine tuning to  balance computing power between rendering and animation/interaction.\n",
    "\n",
    "However, when recording performance of a mouse scroll zoom action it becomes apparent that the timing of loading new data is only when the zoom-animation has finished. \n",
    "\n",
    "![vanilla ol](img/ol-late-tile-loading.png)\n",
    "*vanilla ol*\n",
    "\n",
    "Comparing this to mapbox reveals that in MB, loading newer data is fired right after the zoom event has occured. Thus, tile loading has finished once animation has finished and rendering of the new data can immediately start. \n",
    "\n",
    "- **In what ways can this behaviour further be improved in OL?**\n",
    "- **how is it determined, when new data has to be loaded?** Can this be made predictive (e.g. panning left immediately start loading new tiles on the right of the map)\n",
    "\n",
    "### Rendering\n",
    "The overall rendering performance can't keep up with mapbox in general. As mentioned, this refers to vanilla OL and vanilla OL rendering the same vector tiles source from swisstopo. Since MB is optimized for rendering vector tiles, the bar is set high and many improvements have already been made over the last months.\n",
    "\n",
    "#### Webworkers\n",
    "As stated in [1], \"currently all costly operations are done on the main thread, and data preparation/parsing takes at least as much time as rendering\". Work has been done in OL to offload tile preparation work to webworkers. In a first step ([PR #8926](https://github.com/openlayers/openlayers/pull/8926)) execution planning and rendering has been separated, followed by [PR #9008](https://github.com/openlayers/openlayers/pull/9008) which decouples render instruction creation from rendering\n",
    "and [PR #9058](https://github.com/openlayers/openlayers/pull/9058) which moves all tile loading logic from the VectorImageTile to the source.\n",
    "\n",
    "- **What is the status here?**\n",
    "- **Is the [*`OffscreenCanvas`*](https://developer.mozilla.org/en-US/docs/Web/API/OffscreenCanvas#Browser_compatibility)([4]) feature necessary to make progress here? (as mentioned in 'comments' in [1])** \n",
    "Browser-Support for offscreencanvas is still very limited and considering that we'll have to support older browser (certainly EDGE 17) for a while, are there other options? Workers currently seem to be used only in the Raster source. \n",
    "\n",
    "#### WebGL\n",
    "In [1] (deliverables 1 and 2) WebGL is mentioned several times as full-fledged renderer, however with [PR #8951](https://github.com/openlayers/openlayers/pull/8951) most support for WebGL was dropped. \n",
    "\n",
    "- **What was the reason for this and could this be reconsidered?** \n",
    "\n",
    "Performance analysis shows that MB is extensively using GPU, it seems that it can be beneficial.\n",
    "\n",
    "\n",
    "### Animation\n",
    "\n",
    "A major zooming issue was recently resolved with [PR #9357](https://github.com/openlayers/openlayers/pull/9357) by rendering vector tiles at the view resolution instead of fixed steps which resulted an majory differences in what is displayed at which zoom level compared to MB. \n",
    "Nevertheless, since `vectorial` zoom / pan animation was removed with [PR #8923](https://github.com/openlayers/openlayers/pull/8923) other visual side effects can be observed:\n",
    "- feature size doesn't change smootly between zoom levels: features are enlarged too much by zooming the rastered image, subsequent rerendering reduces the feature size to the correct value. Vector zooming would allow for a smooth transition between feature sizes (this behaviour can be best observed at roundabouts).\n",
    "![roundabout zooming](img/roundabout.gif)\n",
    "- \"fading in\" of features when zooming is not working as intended (best observed in forest areas), MB zoom smoothly changes the forest color whereas OL zoom animation uses the \"old\" color and then abruptly changes to the new color.\n",
    "\n",
    "The visual effect of the described behaviours can be slightly reduced by tweaking zoom steps and animation times which has been done in the [vanilla ol](https://mf-geoadmin4.int.bgdi.ch/ol-minimalist/index.html). Thusly, the effect of `hybrid` rendering can be reduced.\n",
    "Zooming by mouse wheel is currently too coarse (zooming step of one per wheel 'tick'), can be reduced to 0.33 (as in Mapbox) by reducing the `MAX_DELTA` constant (in `interaction/MouseWheelZoom.js:17`\n",
    "```interaction/MouseWheelZoom.js:17\n",
    "/**\n",
    " * Maximum mouse wheel delta.\n",
    " * @type {number}\n",
    " */\n",
    "const MAX_DELTA = 0.3;\n",
    "```\n",
    "\n",
    "Furthermore, there is a difference in mouse wheel zooming and trackpad zooming. Trackpad shows a smoother zooming behaviour (more frequent re-rendering) than mouse wheel zooming. Performance recording shows that trackpad zooming consists of numerous small steps with intermediate re-rendering while mouse-wheel zooming is one long animation and subsequent re-rendering.\n",
    "\n",
    "- **Why was 'vector' mode dropped and could this be reconsidered?**\n",
    "\n",
    "### Caching\n",
    "\n",
    "Caching (specially cache size calculation) was already improved wiht [PR #9318](https://github.com/openlayers/openlayers/pull/9318). It seems however that caching strategy of tiles is still not optimal. This is most apparent when zooming out of a region that was previously already displayed at a lower zoom level. Checking network traffic reveals that tiles are (partly?) loaded again that have been previously loaded (although most of them from browser cache). Again, MB doesn't show this behaviour, when zooming in and out again at the exact same point, no tiles are reloaded.\n",
    "\n",
    "### Style Optimizations\n",
    "\n",
    "As stated in [issue #136](https://github.com/openlayers/ol-mapbox-style/issues/136) OL cannot declutter on map level. In order to be able to use two tile sources (OSM and swisstopo) and have a correct layering, ol-mapbox-style has to create five layers as shown in the first figure. Three of them only contain labels. This is not very performant, so a possible optimization would be to create a combined source and apply decluttering already there. This would result in just a single `VectorTileLayer` and a possibly considerable performance boost. Another approach to handle this in the library is currently being worked on (see [issue #136](https://github.com/openlayers/ol-mapbox-style/issues/136) for updates).\n",
    "\n",
    "---"
   ]
  },
  {
   "cell_type": "markdown",
   "metadata": {
    "slideshow": {
     "slide_type": "slide"
    }
   },
   "source": [
    "## Styling\n",
    "\n",
    "As mentioned in the preface, in the *\"ol-native\"* approach an additional library is needed to interpret and translate mapbox style definition. \n",
    "[ol-mapbox-style](https://github.com/openlayers/ol-mapbox-style) does a decent job already. However, there are still major and minor [differences](https://github.com/geoadmin/mf-geoadmin3/issues/4752) that have to be resolved to provide an acceptable representation of mapbox styled vector tiles in OL.\n",
    "\n",
    "- **The advancement/resolution of these issues seems to be blocked due to financial issues. How can we proceed in this matter?**\n",
    "\n",
    "---"
   ]
  },
  {
   "cell_type": "markdown",
   "metadata": {
    "slideshow": {
     "slide_type": "slide"
    }
   },
   "source": [
    "## Documentation\n",
    "\n",
    "The existing API documentation is good but \"higher\" level docs of concepts, architecture (e.g. call tree), rendering process are missing (or not available to us).\n",
    "\n",
    "- **is such doc existing?**\n",
    "\n",
    "---"
   ]
  },
  {
   "cell_type": "markdown",
   "metadata": {
    "slideshow": {
     "slide_type": "slide"
    }
   },
   "source": [
    "## Roadmap\n",
    "\n",
    "In order to plan the next development steps at swisstopo it is important to know the development pipeline of OL. Many of the mentioned goals in [2] and [1] have been reached, many are yet to be addressed. As mentioned in the preface, there are two fundamentally different ways of having vector tiles rendered in OL, *'ol-native'* (which requires ol-mapbox-style) and *'ol + mapbox'*.\n",
    "\n",
    "### *ol-native* (plus ol-mapbox-style)\n",
    "This is merely a summary of points mentioned above, mainly concerning performance. What is the status of\n",
    "\n",
    "- **using webworkers?**\n",
    "- **using WebGL?**\n",
    "- **ol-mapbox-style?** currently there seem to be financial issues blocking further development. Plans to integrate it into openlayers?\n",
    "\n",
    "### *ol + mapbox*\n",
    "Following up on the question whether delegating the rendering of a VT layer to mapbox-gl (encapsulated e.g. in a `MapboxLayer` as in the examples [here](https://170-4723248-gh.circle-artifacts.com/0/examples/mapbox-layer.html) (from [PR #8931](https://github.com/openlayers/openlayers/pull/8931)) and [here](https://codepen.io/pakb/pen/pBjGOP)) is a viable way to go as mentioned as a goal in the [OL 6 call for funding](https://github.com/openlayers/openlayers/wiki/OpenLayers-6:-call-for-funding):\n",
    "\n",
    "- **general limitations with regard to other OL functionality?**\n",
    "- **effort to have this working with current `master` again**\n",
    "\n",
    "---"
   ]
  },
  {
   "cell_type": "markdown",
   "metadata": {
    "slideshow": {
     "slide_type": "slide"
    }
   },
   "source": [
    "\n",
    "## Resources\n",
    "\n",
    "[[1]](https://docs.google.com/spreadsheets/d/1VZA57VBC37PWPP1vofD5HBXld2XgdsE92z1xdBN41bI/edit#gid=0) RE4_Crowdfunding_Acceptance_Protocol \n",
    "\n",
    "[[2]](https://docs.google.com/document/d/1CZndl2HZ8kuXAb7nHzMyCshT1zCBkKCJBRb6mSzy9Ok/edit#heading=h.3ec7yuydoshz) ol6 vt code sprint (goal and preparations)\n",
    "\n",
    "[[3]](https://www.html5rocks.com/en/tutorials/canvas/performance/) about HTML 5 Canvas performance\n",
    "\n",
    "[[4]](https://developers.google.com/web/updates/2018/08/offscreen-canvas) `OffscreenCanvas()`"
   ]
  }
 ],
 "metadata": {
  "kernelspec": {
   "display_name": "Python 3",
   "language": "python",
   "name": "python3"
  },
  "language_info": {
   "codemirror_mode": {
    "name": "ipython",
    "version": 3
   },
   "file_extension": ".py",
   "mimetype": "text/x-python",
   "name": "python",
   "nbconvert_exporter": "python",
   "pygments_lexer": "ipython3",
   "version": "3.6.7"
  }
 },
 "nbformat": 4,
 "nbformat_minor": 2
}
