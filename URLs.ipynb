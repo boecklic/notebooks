{
 "cells": [
  {
   "cell_type": "markdown",
   "metadata": {},
   "source": [
    "## branch <fix_1234|master>: make dist\n",
    "```\n",
    "dist/<timestamp>/index.html (with relative links like src=\"<timestamp>/lib/build.js\")\n",
    "dist/<timestamp>/<timestamp>/img/\n",
    "dist/<timestamp>/<timestamp>/lib/build.js\n",
    "dist/<timestamp>/src/index.html\n",
    "```\n",
    "\n",
    "## s3manage: upload dist\n",
    "```\n",
    "s3://mf-geoadmin3-<dev|int|prod>-dublin/<fix_1234|master>/<timestamp>/index.html (with relative links like src=\"<timestamp>/lib/build.js\")\n",
    "s3://mf-geoadmin3-<dev|int|prod>-dublin/<fix_1234|master>/<timestamp>/<timestamp>/img/\n",
    "s3://mf-geoadmin3-<dev|int|prod>-dublin/<fix_1234|master>/<timestamp>/<timestamp>/lib/build.js\n",
    "s3://mf-geoadmin3-<dev|int|prod>-dublin/<fix_1234|master>/<timestamp>/src/index.html\n",
    "```\n",
    "\n",
    "## s3manage: activate <timestamp> from branch <fix_1234|master> (copy everything inside a <timestamp> int current)\n",
    "```\n",
    "mf-geoadmin3.<dev|int|prod>.bgdi.ch/<fix_1234|master>/current/index.html (with relative links like src=\"<timestamp>/lib/build.js\")\n",
    "mf-geoadmin3.<dev|int|prod>.bgdi.ch/<fix_1234|master>/current/<timestamp>/img/\n",
    "mf-geoadmin3.<dev|int|prod>.bgdi.ch/<fix_1234|master>/current/<timestamp>/lib/build.js\n",
    "mf-geoadmin3.<dev|int|prod>.bgdi.ch/<fix_1234|master>/current/src/index.html\n",
    "```"
   ]
  },
  {
   "cell_type": "code",
   "execution_count": null,
   "metadata": {},
   "outputs": [],
   "source": []
  }
 ],
 "metadata": {
  "kernelspec": {
   "display_name": "Python 3",
   "language": "python",
   "name": "python3"
  },
  "language_info": {
   "codemirror_mode": {
    "name": "ipython",
    "version": 3
   },
   "file_extension": ".py",
   "mimetype": "text/x-python",
   "name": "python",
   "nbconvert_exporter": "python",
   "pygments_lexer": "ipython3",
   "version": "3.6.7"
  }
 },
 "nbformat": 4,
 "nbformat_minor": 2
}
