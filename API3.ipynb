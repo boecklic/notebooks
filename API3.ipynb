{
 "cells": [
  {
   "cell_type": "markdown",
   "metadata": {},
   "source": [
    "# Mapserver"
   ]
  },
  {
   "cell_type": "code",
   "execution_count": 12,
   "metadata": {},
   "outputs": [],
   "source": [
    "import requests\n",
    "base_url = \"https://api3.geo.admin.ch/{api_url}\"\n",
    "base_url = \"https://mf-chsdi3.dev.bgdi.ch/ltboc/{api_url}\"\n",
    "layer = \"ch.swisstopo.zeitreihen\"\n",
    "api_url = \"/rest/services/all/MapServer/{layer}/releases\".format(layer=layer)\n",
    "url = base_url.format(api_url=api_url)\n",
    "mapExtent = '620998.611111,231681.388889,649291.388889,250378.611111'\n",
    "geometry = '636500.0,241000.0'\n",
    "params = {'imageDisplay': '2851,1884,256.0',\n",
    "    'mapExtent': mapExtent,\n",
    "    'geometry': geometry,\n",
    "    'geometryType': 'esriGeometryPoint'\n",
    "}"
   ]
  },
  {
   "cell_type": "code",
   "execution_count": 13,
   "metadata": {},
   "outputs": [
    {
     "name": "stdout",
     "output_type": "stream",
     "text": [
      "<Response [200]>\n",
      "{'results': ['18611231', '18641231', '18661231', '18711231', '18751231', '18761231', '18791231', '18821231', '18851231', '18891231', '18931231', '18951231', '18981231', '19021231', '19051231', '19061231', '19081231', '19091231', '19121231', '19221231', '19231231', '19281231', '19331231', '19591231', '19651231', '19701231', '19761231', '19821231', '19881231', '19941231', '20001231', '20071231', '20171231']}\n"
     ]
    }
   ],
   "source": [
    "response = requests.get(url, params=params)\n",
    "print(response)\n",
    "print(response.json())"
   ]
  },
  {
   "cell_type": "code",
   "execution_count": 14,
   "metadata": {},
   "outputs": [
    {
     "name": "stdout",
     "output_type": "stream",
     "text": [
      "{'20171231'}\n"
     ]
    }
   ],
   "source": [
    "soll = [\"18611231\", \"18641231\", \"18661231\", \"18711231\", \"18751231\", \"18761231\",\n",
    "    \"18791231\", \"18821231\", \"18851231\", \"18891231\", \"18931231\", \"18951231\",\n",
    "    \"18981231\", \"19021231\", \"19051231\", \"19061231\", \"19081231\", \"19091231\",\n",
    "    \"19121231\", \"19221231\", \"19231231\", \"19281231\", \"19331231\", \"19591231\",\n",
    "    \"19651231\", \"19701231\", \"19761231\", \"19821231\", \"19881231\", \"19941231\", \"20001231\", \"20071231\"]\n",
    "print(set(response.json()['results']) ^ set(soll))"
   ]
  },
  {
   "cell_type": "markdown",
   "metadata": {},
   "source": [
    "# /gl-styles"
   ]
  },
  {
   "cell_type": "code",
   "execution_count": 21,
   "metadata": {},
   "outputs": [
    {
     "name": "stdout",
     "output_type": "stream",
     "text": [
      "{'adminId': 'DrL-TCfzQCmqYyhJmKs70Q', 'fileId': 'QhZa07Y1Sta8WsrxmvFqSA'}\n",
      "{   'bearing': 0,\n",
      "    'center': [9, 46],\n",
      "    'glyphs': 'https://linktoglyphs',\n",
      "    'layers': [   {   'id': 'background',\n",
      "                      'layout': {'visibility': 'visible'},\n",
      "                      'maxzoom': 24,\n",
      "                      'minzoom': 6,\n",
      "                      'paint': {'background-color': 'rgb(255, 255, 255)'},\n",
      "                      'type': 'background'}],\n",
      "    'name': 'ch.swisstopo.leichte-basiskarte.vt',\n",
      "    'pitch': 5.5,\n",
      "    'sources': {   'ch.swissnames3d': {   'type': 'vector',\n",
      "                                          'url': 'https://swissnames3d.json'},\n",
      "                   'ch.swisstopo.swissalti3d-reliefschattierung': {   'type': 'raster',\n",
      "                                                                      'url': 'https://swissalti3d.json'}},\n",
      "    'sprite': 'https://linktosprite',\n",
      "    'version': 8,\n",
      "    'zoom': 6.5}\n"
     ]
    }
   ],
   "source": [
    "import json\n",
    "import pprint\n",
    "GL_STYLE = { \n",
    "     'version': 8,\n",
    "     'name': 'ch.swisstopo.leichte-basiskarte.vt',\n",
    "     'center': [9, 46],\n",
    "     'zoom': 6.5,\n",
    "     'bearing': 0,\n",
    "     'pitch': 5.5,\n",
    "     'sources': {\n",
    "         'ch.swissnames3d': {\n",
    "             'url': 'https://swissnames3d.json',\n",
    "             'type': 'vector'\n",
    "         },  \n",
    "         'ch.swisstopo.swissalti3d-reliefschattierung': {\n",
    "             'url': 'https://swissalti3d.json',\n",
    "             'type': 'raster'\n",
    "         }   \n",
    "     },  \n",
    "     'sprite': 'https://linktosprite',\n",
    "     'glyphs': 'https://linktoglyphs',\n",
    "     'layers': [\n",
    "         {   \n",
    "             'id': 'background',\n",
    "             'type': 'background',\n",
    "             'minzoom': 6,\n",
    "             'maxzoom': 24, \n",
    "             'layout': {\n",
    "               'visibility': 'visible'\n",
    "             },  \n",
    "             'paint': {\n",
    "                 'background-color': 'rgb(255, 255, 255)'\n",
    "             }   \n",
    "         }   \n",
    "     ]   \n",
    " }\n",
    "headers = {'Content-Type': 'application/json', 'X-SearchServer-Authorized': 'true', 'referer': 'https://ltboc.admin.ch'}\n",
    "api_url = \"/gl-styles\"\n",
    "url = base_url.format(api_url=api_url)\n",
    "resp = requests.post(url, json.dumps(GL_STYLE), headers=headers)\n",
    "print(resp.json())\n",
    "api_url = \"/gl-styles/{fileId}\"\n",
    "url = base_url.format(api_url=api_url.format(**resp.json()))\n",
    "resp = requests.get(url, headers=headers)\n",
    "pprint.pprint(resp.json(), indent=4)"
   ]
  },
  {
   "cell_type": "code",
   "execution_count": null,
   "metadata": {},
   "outputs": [],
   "source": [
    "WMS layer with timestamps: ch.astra.unfaelle-personenschaeden_alle"
   ]
  }
 ],
 "metadata": {
  "kernelspec": {
   "display_name": "Python 3",
   "language": "python",
   "name": "python3"
  },
  "language_info": {
   "codemirror_mode": {
    "name": "ipython",
    "version": 3
   },
   "file_extension": ".py",
   "mimetype": "text/x-python",
   "name": "python",
   "nbconvert_exporter": "python",
   "pygments_lexer": "ipython3",
   "version": "3.6.7"
  }
 },
 "nbformat": 4,
 "nbformat_minor": 2
}
