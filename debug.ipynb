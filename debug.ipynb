{
 "cells": [
  {
   "cell_type": "code",
   "execution_count": 43,
   "metadata": {},
   "outputs": [],
   "source": [
    "import requests\n",
    "import urllib.parse\n",
    "import json\n",
    "from IPython.display import GeoJSON, display\n",
    "\n",
    "\n",
    "_url = \"\"\"https://api3.geo.admin.ch/rest/services/ech/MapServer/identify?\n",
    "geometry={geometry}\n",
    "&geometryType=esriGeometryPolygon\n",
    "&imageDisplay=1920%2C852%2C96\n",
    "&mapExtent=420000%2C350000%2C900000%2C30000\n",
    "&returnGeometry=false\n",
    "&sr=2056\n",
    "&tolerance=0\n",
    "&layers=all%3Ach.bfs.volkszaehlung-bevoelkerungsstatistik_einwohner\"\"\".strip().replace('\\n','')\n",
    "geo = {\"paths\":[[\n",
    "    [2554060,1198340],\n",
    "    [2554060,1198530],\n",
    "    [2554240,1198530],\n",
    "    [2554240,1198340],\n",
    "    [2554060,1198340]\n",
    "]]}\n"
   ]
  },
  {
   "cell_type": "code",
   "execution_count": 44,
   "metadata": {},
   "outputs": [
    {
     "data": {
      "application/geo+json": {
       "geometry": {
        "coordinates": [
         [
          [
           6.836692069286765,
           46.935696425038394
          ],
          [
           6.836691261434053,
           46.93576838446916
          ],
          [
           6.836599337538604,
           46.93576790025082
          ],
          [
           6.8366001455144785,
           46.935695940820665
          ],
          [
           6.836692069286765,
           46.935696425038394
          ]
         ]
        ],
        "type": "Polygon"
       },
       "type": "Feature"
      },
      "text/plain": [
       "<IPython.display.GeoJSON object>"
      ]
     },
     "metadata": {
      "application/geo+json": {
       "expanded": false,
       "root": "root"
      }
     },
     "output_type": "display_data"
    }
   ],
   "source": [
    "from pyproj import Proj, transform\n",
    "\n",
    "def tolv95(gj):\n",
    "    inProj = Proj(init='epsg:2056')\n",
    "    outProj = Proj(init='epsg:4326')\n",
    "    \n",
    "    def t(x,y):\n",
    "        return list(transform(inProj, outProj, x, y))\n",
    "    \n",
    "    if gj[\"type\"] == \"Feature\":\n",
    "        coords = gj[\"geometry\"][\"coordinates\"]\n",
    "        if gj[\"geometry\"][\"type\"] == \"Polygon\":\n",
    "            polys = []\n",
    "            for poly in coords:\n",
    "                polygon = []\n",
    "                for coord in poly:\n",
    "                    polygon.append(t(coord[0], coord[1]))\n",
    "            polys.append(polygon)\n",
    "        gj[\"geometry\"][\"coordinates\"] = polys\n",
    "    return gj\n",
    "    \n",
    "geojson1 = {\n",
    "    \"type\": \"Feature\",\n",
    "#     \"crs\": {\n",
    "#         \"type\": \"EPSG\",\n",
    "#         \"properties\": {\"code\": 2056},\n",
    "# #         \"coordinate_order\": [0, 1]\n",
    "#     },\n",
    "    \"geometry\": {\n",
    "        \"type\": \"Polygon\",\n",
    "        \"coordinates\": [[\n",
    "            [2554164, 1198466],\n",
    "            [2554164, 1198474],\n",
    "            [2554157, 1198474],\n",
    "            [2554157, 1198466],\n",
    "            [2554164, 1198466]\n",
    "        ]]\n",
    "    }\n",
    "}\n",
    "gjsn1 = tolv95(geojson1)\n",
    "# print(gjsn)\n",
    "GeoJSON(gjsn1)"
   ]
  },
  {
   "cell_type": "code",
   "execution_count": 45,
   "metadata": {},
   "outputs": [
    {
     "data": {
      "application/geo+json": {
       "geometry": {
        "coordinates": [
         [
          [
           6.835339097054702,
           46.934555862346194
          ],
          [
           6.835319867319522,
           46.93626489869205
          ],
          [
           6.837683646736475,
           46.936277352984796
          ],
          [
           6.837702801255287,
           46.934568316245844
          ],
          [
           6.835339097054702,
           46.934555862346194
          ]
         ]
        ],
        "type": "Polygon"
       },
       "type": "Feature"
      },
      "text/plain": [
       "<IPython.display.GeoJSON object>"
      ]
     },
     "metadata": {
      "application/geo+json": {
       "expanded": false,
       "root": "root"
      }
     },
     "output_type": "display_data"
    }
   ],
   "source": [
    "geojson2 = {\n",
    "    \"type\": \"Feature\",\n",
    "    \"geometry\": {\n",
    "        \"type\": \"Polygon\",\n",
    "        \"coordinates\": [[\n",
    "            [2554060,1198340],\n",
    "            [2554060,1198530],\n",
    "            [2554240,1198530],\n",
    "            [2554240,1198340],\n",
    "            [2554060,1198340]\n",
    "        ]]\n",
    "    }\n",
    "}\n",
    "gjsn2 = tolv95(geojson2)\n",
    "GeoJSON(gjsn2)"
   ]
  },
  {
   "cell_type": "code",
   "execution_count": 47,
   "metadata": {},
   "outputs": [
    {
     "name": "stdout",
     "output_type": "stream",
     "text": [
      "{'results': []}\n"
     ]
    }
   ],
   "source": [
    "geometry = urllib.parse.quote(json.dumps(geo))\n",
    "url = _url.format(geometry=geometry)\n",
    "response = requests.get(url)\n",
    "print(response.json())"
   ]
  }
 ],
 "metadata": {
  "kernelspec": {
   "display_name": "Python 3",
   "language": "python",
   "name": "python3"
  },
  "language_info": {
   "codemirror_mode": {
    "name": "ipython",
    "version": 3
   },
   "file_extension": ".py",
   "mimetype": "text/x-python",
   "name": "python",
   "nbconvert_exporter": "python",
   "pygments_lexer": "ipython3",
   "version": "3.6.7"
  }
 },
 "nbformat": 4,
 "nbformat_minor": 2
}
