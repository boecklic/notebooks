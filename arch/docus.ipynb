{
 "cells": [
  {
   "cell_type": "markdown",
   "metadata": {},
   "source": [
    "# Docus\n",
    "\n",
    "## Infra\n",
    "\n",
    "[12 - postgres streaming replication infra and deploy](https://ltwiki.adr.admin.ch:8443/display/BGDI/12+-+postgres+streaming+replication+infra+and+deploy)\n",
    "[Infra doc from c2c](https://git.swisstopo.admin.ch/camptocamp/doc-chtopo/blob/master/index.md)\n",
    "[Laufende Projekte und Betriebsobjekte BGDI](https://ltwiki.adr.admin.ch:8443/display/BGDI/Laufende+Projekte+und+Betriebsobjekte+BGDI)\n",
    "\n",
    "## Architektur\n",
    "[Unternehmensarchitektur](https://ltwiki.adr.admin.ch:8443/display/ITARCH/Unternehmensarchitektur+Home)\n",
    "[BGDI Ziel-Architektur Übersichten](https://ltwiki.adr.admin.ch:8443/pages/viewpage.action?pageId=328107741)\n",
    "\n"
   ]
  }
 ],
 "metadata": {
  "kernelspec": {
   "display_name": "Python 3",
   "language": "python",
   "name": "python3"
  },
  "language_info": {
   "codemirror_mode": {
    "name": "ipython",
    "version": 3
   },
   "file_extension": ".py",
   "mimetype": "text/x-python",
   "name": "python",
   "nbconvert_exporter": "python",
   "pygments_lexer": "ipython3",
   "version": "3.6.8"
  }
 },
 "nbformat": 4,
 "nbformat_minor": 4
}
