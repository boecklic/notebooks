{
 "cells": [
  {
   "cell_type": "markdown",
   "metadata": {},
   "source": [
    "# Compare perfomance of mapbox and openlayers\n",
    "\n",
    "## tl;dr\n",
    "\n",
    "- loading and rendering performance of minimalistic viewers with mapbox and openlayers framework show comparable performance on initial load. Openlayers seems to perform even slightly better for zooming\n",
    "- current geoadmin angular app adds substantial overhead that causes much of the perceived inferior performance compared to mapbox\n",
    "- requests for performance improvements towards openlayers should only be made with reference to minimalistic viewer, not current testviewer\n",
    "- development of next-gen geoadmin should focus on a much simpler app architecture"
   ]
  },
  {
   "cell_type": "markdown",
   "metadata": {},
   "source": [
    "## Initial Load\n",
    "\n",
    "### Current state of the testviewer\n",
    "The current state of the testviewer is used as reference. The total time used to load the app and render the initial state is ~ 5.5s\n",
    "\n",
    "![current test.map.geo.admin.ch https://test.map.geo.admin.ch](img/ol-mapbox-performance/Screenshot-ol-testviewer.png)\n",
    "*current test.map.geo.admin.ch https://test.map.geo.admin.ch*\n",
    "\n",
    "\n",
    "### Slightly optimized version of the testviewer\n",
    "In the current testviewer (and style v006.json) the vector tiles are loaded from five different subdomains (`vectortiles[10-14].geo.admin.ch`). it seemed that time is lost during establising of five parallel secure tcp connections. Furthermore, js-code and icons are loaded in the background for the survey. \n",
    "\n",
    "An optimized version of the app was made with a custom style file using just one domain for loading the tiles. The survey modal was temporarily disabled to see the impact. As the figure shows, around 0.7s can be saved with these measures, resulting in a total load time of ~4.8 s.\n",
    "\n",
    "![current testviewer but without hidden survey modal and customized style to only load from one domain `vectortiles10.geo.admin.ch` https://mf-geoadmin4.int.bgdi.ch/ltboc_perf/1903191626/index.html](img/ol-mapbox-performance/Screenshot-ol-singlehost-no-survey.png)\n",
    "*current testviewer but without hidden survey modal and customized style to only load from one domain `vectortiles10.geo.admin.ch` https://mf-geoadmin4.int.bgdi.ch/ltboc_perf/1903191626/index.html*\n",
    "\n",
    "\n",
    "### Minimalistic OL Viewer\n",
    "Another apparent performance hit is happening in the beginning of the loading, before ol even comes into action. A minimalistic ol app was created with just the map and no angular/app overhead. A single domain is used to load the vector tiles and all style files are compressed. With these measures, another ~1.2s can be gained, resulting in a load time of ~3.6s.\n",
    "\n",
    "![minimalistic openlayers map viewer with swisstopo data source (loading tiles from one domain `vectortiles10.geo.admin.ch`) https://mf-geoadmin4.int.bgdi.ch/ol-minimalist/index.html](img/ol-mapbox-performance/Screenshot-ol-minimalist.png)\n",
    "*minimalistic openlayers map viewer with swisstopo data source (loading tiles from one domain `vectortiles10.geo.admin.ch`) https://mf-geoadmin4.int.bgdi.ch/ol-minimalist/index.html*\n",
    "\n",
    "### Minimalistic Mapbox Viewer\n",
    "A comparable minimalistic app is provided by the mapbox viewer itself. A full load takes around ~3.6 s seconds as well, hence the inital loading of ol and mapbox (just the maps) are comparable\n",
    "\n",
    "![minimalistic mapbox map viewer with swisstopo data source (http://vectortiles.geo.admin.ch/gl-styles/ch.swisstopo.leichte-basiskarte.vt/v006/#7/47/8/0/6)](img/ol-mapbox-performance/Screenshot-performance-mapbox-full-reload.png)\n",
    "*minimalistic mapbox map viewer with swisstopo data source (http://vectortiles.geo.admin.ch/gl-styles/ch.swisstopo.leichte-basiskarte.vt/v006/#7/47/8/0/6)*"
   ]
  },
  {
   "cell_type": "markdown",
   "metadata": {},
   "source": [
    "## Zoom\n",
    "\n",
    "Mapbox and OL use currently different zooming steps per mouse scroll / zoom button click. The zooming behaviour for the vanilla OL and mapbox viewer are currently quite different (zoom step per mouse scroll/plus icon click). Therefore, to compare zooming / rendering performance, the zoom level is set on the console. For OL, the zoom level is set on the `view` property of the map, in mapbox it is a direct property of the `map` instance. The initial zoom level for OL is `8` which corresponds to `7` for mapbox. Both zoom levels are increased by `2`. Zooming/rendering performance is only compared for the two minimalistic viewers.\n",
    "\n",
    "### Minimalistic OL Viewer\n",
    "Zooming by two steps in a minimalistic OL viewer takes ~2.1 seconds, including loading of new tiles and rendering.\n",
    "\n",
    "![zoom / rendering performance of a minimalistic ol viewer](img/ol-mapbox-performance/Screenshot-ol-minimalist-zoom.png)\n",
    "*zoom / rendering performance of a minimalistic ol viewer*\n",
    "\n",
    "### Minimalistic Mapbox Viewer\n",
    "Zooming by two steps in the minimalistic mapbox viewer takes ~3.1 seconds, including loading of new tiles and rendering.\n",
    "\n",
    "![zoom / rendering performance of a minimalistic mapbox viewer](img/ol-mapbox-performance/Screenshot-mapbox-zoom.png)\n",
    "*zoom / rendering performance of a minimalistic mapbox viewer*\n",
    "\n",
    "### Testviewer zoom\n",
    "Zooming by two steps in the current testviewer takes ~3.6 seconds, including loading of new tiles and rendering. The substantial difference to the minimalistic viewer might be due to angular app overhead and intermediate animations. \n",
    "\n",
    "![zoom / rendering performance of the testviewer](img/ol-mapbox-performance/Screenshot-testviewer-zoom.png)\n",
    "*zoom / rendering performance of the testviewer*\n"
   ]
  },
  {
   "cell_type": "code",
   "execution_count": null,
   "metadata": {},
   "outputs": [],
   "source": []
  }
 ],
 "metadata": {
  "kernelspec": {
   "display_name": "Python 3",
   "language": "python",
   "name": "python3"
  },
  "language_info": {
   "codemirror_mode": {
    "name": "ipython",
    "version": 3
   },
   "file_extension": ".py",
   "mimetype": "text/x-python",
   "name": "python",
   "nbconvert_exporter": "python",
   "pygments_lexer": "ipython3",
   "version": "3.6.7"
  }
 },
 "nbformat": 4,
 "nbformat_minor": 2
}
