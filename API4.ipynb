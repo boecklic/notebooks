{
 "cells": [
  {
   "cell_type": "markdown",
   "metadata": {},
   "source": [
    "# API 4"
   ]
  },
  {
   "cell_type": "markdown",
   "metadata": {},
   "source": [
    "## API\n",
    "```\n",
    "api.geo.admin.ch/\n",
    "api.geo.admin.ch/api/v4/\n",
    "api.geo.admin.ch/api/v4/doc\n",
    "api.geo.admin.ch/api/v4/releasenotes\n",
    "```\n",
    "[`api.geo.admin.ch/api/v4/datasets/{dataset_id}`](https://ltboc.infra.bgdi.ch/layerservice/api/v4/datasets/960)\n",
    "```\n",
    "api.geo.admin.ch/api/v4/datasets/{dataset_id}/revisions\n",
    "api.geo.admin.ch/api/v4/datasets/{dataset_id}/revisions/{revision_id}\n",
    "api.geo.admin.ch/api/v4/datasets/{dataset_id}/mapfiles\n",
    "api.geo.admin.ch/api/v4/catalog/topics\n",
    "api.geo.admin.ch/api/v4/catalog/entries\n",
    "api.geo.admin.ch/api/v4/translations\n",
    "\n",
    "api.geo.admin.ch/api/v4/qrcodes\n",
    "\n",
    "api.geo.admin.ch/api/v4/markers\n",
    "\n",
    "# schema validator\n",
    "api.geo.admin.ch/api/v4/schemas/{schema_id}/ GET\n",
    "api.geo.admin.ch/api/v4/schemas/{schema_id}/validate POST\n",
    "\n",
    "api.geo.admin.ch/api/v4/shortlinks/ POST\n",
    "api.geo.admin.ch/api/v4/shortlinks/{hash}/ GET -> REDIRECT\n",
    "\n",
    "api.geo.admin.ch/api/v4/files GET list, POST file\n",
    "api.geo.admin.ch/api/v4/files/{hash} GET file, PUT update, DELETE delete\n",
    "\n",
    "\n",
    "```\n",
    "\n",
    "## DATA\n",
    "```\n",
    "data.geo.admin.ch/api/v4/layers/{layer_id}\n",
    "data.geo.admin.ch/api/v4/layers/{layer_id}/features\n",
    "data.geo.admin.ch/api/v4/layers/{layer_id}/features/{feature_id}\n",
    "data.geo.admin.ch/api/v4/layers/{ch.swisstopo.height} (heights)\n",
    "data.geo.admin.ch/api/v4/integrations/cap\n",
    "data.geo.admin.ch/api/v4/integrations/oicp\n",
    "data.geo.admin.ch/api/v4/integrations/oioi\n",
    "```\n",
    "\n",
    "## WMTS\n",
    "```\n",
    "wmts.geo.admin.ch/1.0.0/WMTSCapabilities.xml\n",
    "wmts.geo.admin.ch/1.0.0/legends/\n",
    "```\n",
    "\n",
    "\n",
    "# Questions\n",
    "- \"Publish layer\", how to get there (e.g. manager int, qa, prod in one system )\n",
    "\n"
   ]
  }
 ],
 "metadata": {
  "kernelspec": {
   "display_name": "Python 3",
   "language": "python",
   "name": "python3"
  },
  "language_info": {
   "codemirror_mode": {
    "name": "ipython",
    "version": 3
   },
   "file_extension": ".py",
   "mimetype": "text/x-python",
   "name": "python",
   "nbconvert_exporter": "python",
   "pygments_lexer": "ipython3",
   "version": "3.6.7"
  }
 },
 "nbformat": 4,
 "nbformat_minor": 2
}
