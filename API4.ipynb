{
 "cells": [
  {
   "cell_type": "markdown",
   "metadata": {},
   "source": [
    "# API 4"
   ]
  },
  {
   "cell_type": "markdown",
   "metadata": {},
   "source": [
    "## API\n",
    "```\n",
    "api.geo.admin.ch/\n",
    "api.geo.admin.ch/api/v4/\n",
    "api.geo.admin.ch/api/v4/doc/\n",
    "api.geo.admin.ch/api/v4/releasenotes/\n",
    "\n",
    "api.geo.admin.ch/api/v4/datasets/{dataset_id}/\n",
    "api.geo.admin.ch/api/v4/topics/\n",
    "api.geo.admin.ch/api/v4/catalogentries/\n",
    "api.geo.admin.ch/api/v4/translations/\n",
    "\n",
    "api.geo.admin.ch/api/v4/qrcodes/\n",
    "\n",
    "api.geo.admin.ch/api/v4/markers/\n",
    "\n",
    "api.geo.admin.ch/api/v4/shortlinks/ POST\n",
    "api.geo.admin.ch/api/v4/shortlinks/{hash}/ GET -> REDIRECT\n",
    "\n",
    "api.geo.admin.ch/api/v4/files/ GET list, POST file\n",
    "api.geo.admin.ch/api/v4/files/{hash}/ GET file, PUT update, DELETE delete\n",
    "\n",
    "api.geo.admin.ch/api/v4/heights/\n",
    "\n",
    "api.geo.admin.ch/api/v4/profiles/\n",
    "\n",
    "\n",
    "```\n",
    "\n",
    "## DATA\n",
    "```\n",
    "data.geo.admin.ch/api/v4/layers/{layer_id}/\n",
    "data.geo.admin.ch/api/v4/layers/{layer_id}/features/\n",
    "data.geo.admin.ch/api/v4/layers/{layer_id}/features/{feature_id}\n",
    "data.geo.admin.ch/api/v4/caps/\n",
    "```\n",
    "\n",
    "## WMTS\n",
    "```\n",
    "wmts.geo.admin.ch/1.0.0/WMTSCapabilities.xml\n",
    "wmts.geo.admin.ch/1.0.0/legends/\n",
    "```\n",
    "\n",
    "\n",
    "# Questions\n",
    "- \"Publish layer\", how to get there (e.g. manager int, qa, prod in one system )\n",
    "\n",
    "\n",
    "# Credos\n",
    "\n",
    "- clean architecture: https://blog.cleancoder.com/uncle-bob/2012/08/13/the-clean-architecture.html\n",
    "    - data\n",
    "    - business logic\n",
    "    - interface (api)\n",
    "    - app\n",
    "- application logging\n",
    "- separation of concerns\n",
    "    - functional\n",
    "    - data\n",
    "    - caching\n",
    "- no premature optimization, no mixture of architecture and optimization for speed or relability\n",
    "- public vs. internal apis\n",
    "- all logic for one piece at one point\n",
    "- the lower the tech stack, the more general\n",
    "- rest best practice: \n",
    "    - https://hackernoon.com/restful-api-designing-guidelines-the-best-practices-60e1d954e7c9?gi=6a9edea3853d\n",
    "    - https://blog.mwaysolutions.com/2014/06/05/10-best-practices-for-better-restful-api/\n",
    "    - https://restful-api-design.readthedocs.io/en/latest/methods.html"
   ]
  }
 ],
 "metadata": {
  "kernelspec": {
   "display_name": "Python 3",
   "language": "python",
   "name": "python3"
  },
  "language_info": {
   "codemirror_mode": {
    "name": "ipython",
    "version": 3
   },
   "file_extension": ".py",
   "mimetype": "text/x-python",
   "name": "python",
   "nbconvert_exporter": "python",
   "pygments_lexer": "ipython3",
   "version": "3.6.7"
  }
 },
 "nbformat": 4,
 "nbformat_minor": 2
}
