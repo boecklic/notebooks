{
 "cells": [
  {
   "cell_type": "markdown",
   "metadata": {},
   "source": [
    "# API 4"
   ]
  },
  {
   "cell_type": "markdown",
   "metadata": {},
   "source": [
    "## API\n",
    "```\n",
    "api.geo.admin.ch/\n",
    "api.geo.admin.ch/api/v4/\n",
    "api.geo.admin.ch/api/v4/doc/\n",
    "api.geo.admin.ch/api/v4/releasenotes/\n",
    "api.geo.admin.ch/api/v4/layers/\n",
    "api.geo.admin.ch/api/v4/layers/datasets/{dataset_id}/\n",
    "api.geo.admin.ch/api/v4/catalog/\n",
    "api.geo.admin.ch/api/v4/catalog/topics/\n",
    "api.geo.admin.ch/api/v4/catalog/catalogentries/\n",
    "api.geo.admin.ch/api/v4/height/{lat}/{long}/\n",
    "\n",
    "api.geo.admin.ch/services/v4/height/\n",
    "api.geo.admin.ch/services/v4/profile/\n",
    "\n",
    "```\n",
    "\n",
    "## DATA\n",
    "```\n",
    "data.geo.admin.ch/api/v4/layers/{layer_id}/\n",
    "data.geo.admin.ch/api/v4/layers/{layer_id}/features/\n",
    "data.geo.admin.ch/api/v4/layers/{layer_id}/features/{feature_id}\n",
    "data.geo.admin.ch/api/v4/cap/\n",
    "```\n",
    "\n",
    "## WMTS\n",
    "```\n",
    "wmts.geo.admin.ch/1.0.0/WMTSCapabilities.xml\n",
    "wmts.geo.admin.ch/1.0.0/legends/\n",
    "```"
   ]
  }
 ],
 "metadata": {
  "kernelspec": {
   "display_name": "Python 3",
   "language": "python",
   "name": "python3"
  },
  "language_info": {
   "codemirror_mode": {
    "name": "ipython",
    "version": 3
   },
   "file_extension": ".py",
   "mimetype": "text/x-python",
   "name": "python",
   "nbconvert_exporter": "python",
   "pygments_lexer": "ipython3",
   "version": "3.6.7"
  }
 },
 "nbformat": 4,
 "nbformat_minor": 2
}
