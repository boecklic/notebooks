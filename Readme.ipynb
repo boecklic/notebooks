{
 "cells": [
  {
   "cell_type": "markdown",
   "metadata": {},
   "source": [
    "# Deploy\n",
    "\n",
    "## `mf-geoadmin3`\n",
    "\n",
    "### `dev`\n",
    "\n",
    "| Host | Branch | cmd | deploy strategy |\n",
    "|------|--------|-----|-----------------|\n",
    "|`mf-geoadmin3.dev.bgdi.ch/`| `master` | `make deploydev` | manually |\n",
    "|`mf-geoadmin3.dev.bgdi.ch/<user>/`| current user working dir | `make user` | automatically |\n",
    "\n",
    "### `int`\n",
    "\n",
    "\n",
    "| Host | Branch | cmd | deploy strategy |\n",
    "|------|--------|-----|-----------------|\n",
    "|`mf-geoadmin3.int.bgdi.ch/`| `master` | `make s3deployint` | manually |\n",
    "|`mf-geoadmin3.int.bgdi.ch/??/`| `??` | -`deploydev SNAPSHOT=True` | manually? |\n",
    "| .  | .   | -`s3deployint SNAPSHOT=XY` |   |\n",
    "| .  | .   | -`s3activateint SNAPSHOT=XY` |   |\n",
    "|`mf-geoadmin3.int.bgdi.ch/<branch_name>/`| `<branch_name>` | -`deploydev SNAPSHOT=True` | automatically by Jenkins? |\n",
    "| .  | .   | -`s3deploybranchint <branch_name>` |   |\n",
    "\n"
   ]
  },
  {
   "cell_type": "code",
   "execution_count": null,
   "metadata": {},
   "outputs": [],
   "source": []
  }
 ],
 "metadata": {
  "kernelspec": {
   "display_name": "Python 3",
   "language": "python",
   "name": "python3"
  },
  "language_info": {
   "codemirror_mode": {
    "name": "ipython",
    "version": 3
   },
   "file_extension": ".py",
   "mimetype": "text/x-python",
   "name": "python",
   "nbconvert_exporter": "python",
   "pygments_lexer": "ipython3",
   "version": "3.6.7"
  }
 },
 "nbformat": 4,
 "nbformat_minor": 2
}
